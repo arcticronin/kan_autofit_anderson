{
 "cells": [
  {
   "cell_type": "code",
   "execution_count": 44,
   "metadata": {},
   "outputs": [
    {
     "data": {
      "text/plain": [
       "<module 'utils2' from '/home/ronin/Dev/notebooks/kan/pykan/project/utils2.py'>"
      ]
     },
     "execution_count": 44,
     "metadata": {},
     "output_type": "execute_result"
    }
   ],
   "source": [
    "import utils2\n",
    "from utils2 import createfunct\n",
    "from importlib import reload\n",
    "from kan import KAN, create_dataset\n",
    "import numpy as np\n",
    "import matplotlib.pyplot as plt\n",
    "import torch\n",
    "reload(utils2)"
   ]
  },
  {
   "cell_type": "code",
   "execution_count": 45,
   "metadata": {},
   "outputs": [
    {
     "name": "stdout",
     "output_type": "stream",
     "text": [
      "function (1) : x0**2/x1**4\n",
      "function (8) : x1**4 + x0**(-5)\n",
      "function (24) : x0**3*x1**3\n",
      "function (26) : x0**4/x1**5\n"
     ]
    }
   ],
   "source": [
    "n = 2\n",
    "c = 1\n",
    "func_list = []\n",
    "for i in range(30):\n",
    "    try:\n",
    "        random_func, sympy_expr = createfunct(n, c)\n",
    "        func_list.append(random_func)\n",
    "        print(f\"function ({i}) : {sympy_expr}\")\n",
    "    except:\n",
    "        pass\n",
    "        #print(f\"function ({i}) : BRUTTA\")\n"
   ]
  },
  {
   "cell_type": "code",
   "execution_count": 46,
   "metadata": {},
   "outputs": [
    {
     "data": {
      "text/plain": [
       "[<function utils2.<lambda>(x)>,\n",
       " <function utils2.<lambda>(x)>,\n",
       " <function utils2.<lambda>(x)>,\n",
       " <function utils2.<lambda>(x)>]"
      ]
     },
     "execution_count": 46,
     "metadata": {},
     "output_type": "execute_result"
    }
   ],
   "source": [
    "func_list"
   ]
  },
  {
   "cell_type": "code",
   "execution_count": 47,
   "metadata": {},
   "outputs": [],
   "source": [
    "f = func_list[0]\n",
    "dataset_f = create_dataset(f, n_var=2, train_num=3000)"
   ]
  },
  {
   "cell_type": "code",
   "execution_count": 48,
   "metadata": {},
   "outputs": [],
   "source": [
    "def autofit(input, output, dataset):\n",
    "    losses = []\n",
    "    iters = 5\n",
    "\n",
    "    for i in range(iters):\n",
    "        x = (iters - (i + 1)) * [5]\n",
    "        width = [input, *x, output]\n",
    "        model = KAN(width=width, \n",
    "                    grid=5, \n",
    "                    k=3, \n",
    "                    seed=0)\n",
    "        \n",
    "        a = model.fit(dataset, \n",
    "                      opt=\"LBFGS\", \n",
    "                      steps=20,\n",
    "                      lamb=0.001, \n",
    "                      lamb_entropy=2.)\n",
    "        \n",
    "        losses.append(a['train_loss'][-1])\n",
    "    \n",
    "    factor = np.array(list(range(iters,0,-1)))**2\n",
    "    best_setup = np.argmin(factor * losses)\n",
    "    x = (iters - (best_setup + 1)) * [5]\n",
    "    best_width = [input, *x, output]\n",
    "\n",
    "    print(f\"best depth found = {len(x)}\")\n",
    "    \n",
    "    best_model = KAN(width= best_width, \n",
    "                grid=10, \n",
    "                k=3, \n",
    "                seed=0)\n",
    "\n",
    "    best_model.fit(dataset, \n",
    "                   opt=\"LBFGS\", \n",
    "                   steps=20,\n",
    "                   lamb=0.05,\n",
    "                   lamb_entropy=2.5) \n",
    "                   #lamb=0.01, \n",
    "                   #lamb_entropy=2.)\n",
    "    best_model = best_model.prune_node(threshold=1e-2)\n",
    "    return best_model\n",
    "        "
   ]
  },
  {
   "cell_type": "code",
   "execution_count": 53,
   "metadata": {},
   "outputs": [
    {
     "name": "stderr",
     "output_type": "stream",
     "text": [
      "train loss: 4.11e-01 | test loss: 4.22e-01 | reg: 1.86e+01 : 100%|██| 20/20 [00:23<00:00,  1.16s/it]\n",
      "train loss: 4.05e-01 | test loss: 4.31e-01 | reg: 2.00e+01 : 100%|██| 20/20 [00:17<00:00,  1.16it/s]\n",
      "train loss: 4.13e-01 | test loss: 4.21e-01 | reg: 1.50e+01 : 100%|██| 20/20 [00:12<00:00,  1.61it/s]\n",
      "train loss: 4.16e-01 | test loss: 4.17e-01 | reg: 1.24e+01 : 100%|██| 20/20 [00:06<00:00,  3.22it/s]\n",
      "train loss: 5.02e-01 | test loss: 5.00e-01 | reg: 2.91e+00 : 100%|██| 20/20 [00:00<00:00, 27.15it/s]\n"
     ]
    },
    {
     "name": "stdout",
     "output_type": "stream",
     "text": [
      "best depth found = 0\n"
     ]
    },
    {
     "name": "stderr",
     "output_type": "stream",
     "text": [
      "train loss: 5.82e-01 | test loss: 5.82e-01 | reg: 2.22e-02 : 100%|██| 20/20 [00:01<00:00, 16.57it/s]\n"
     ]
    },
    {
     "data": {
      "image/png": "[encoded data removed]",
      "text/plain": [
       "<Figure size 500x200 with 4 Axes>"
      ]
     },
     "metadata": {},
     "output_type": "display_data"
    }
   ],
   "source": [
    "model = autofit(2,1,dataset_f)\n",
    "model.plot(beta=10)"
   ]
  },
  {
   "cell_type": "code",
   "execution_count": 60,
   "metadata": {},
   "outputs": [],
   "source": [
    "f_3 = lambda x: (( x[:, [0]] + x[:,[1]])/(1 + x[:,[0]] * x[:,[1]]))\n",
    "dataset_3 = create_dataset(f_3, n_var=2, train_num=500) ## 3000 was good enough"
   ]
  },
  {
   "cell_type": "code",
   "execution_count": 56,
   "metadata": {},
   "outputs": [
    {
     "name": "stderr",
     "output_type": "stream",
     "text": [
      "train loss: 1.09e-02 | test loss: 1.71e-02 | reg: 9.07e+00 : 100%|██| 20/20 [00:25<00:00,  1.26s/it]\n",
      "train loss: 1.07e-02 | test loss: 1.23e-02 | reg: 5.88e+00 : 100%|██| 20/20 [00:17<00:00,  1.17it/s]\n",
      "train loss: 1.46e-02 | test loss: 1.65e-02 | reg: 5.07e+00 : 100%|██| 20/20 [00:12<00:00,  1.61it/s]\n",
      "train loss: 2.80e-02 | test loss: 3.13e-02 | reg: 4.32e+00 : 100%|██| 20/20 [00:06<00:00,  3.19it/s]\n",
      "train loss: 1.99e-01 | test loss: 1.91e-01 | reg: 3.95e+00 : 100%|██| 20/20 [00:01<00:00, 19.86it/s]\n"
     ]
    },
    {
     "name": "stdout",
     "output_type": "stream",
     "text": [
      "best depth found = 1\n"
     ]
    },
    {
     "name": "stderr",
     "output_type": "stream",
     "text": [
      "train loss: 8.06e-02 | test loss: 8.30e-02 | reg: 2.97e+00 : 100%|██| 20/20 [00:06<00:00,  2.94it/s]\n"
     ]
    }
   ],
   "source": [
    "model = autofit(2,1,dataset_3)"
   ]
  },
  {
   "cell_type": "code",
   "execution_count": 57,
   "metadata": {},
   "outputs": [
    {
     "data": {
      "image/png": "[encoded data removed]",
      "text/plain": [
       "<Figure size 500x400 with 6 Axes>"
      ]
     },
     "metadata": {},
     "output_type": "display_data"
    }
   ],
   "source": [
    "model.plot(beta = 10)"
   ]
  },
  {
   "cell_type": "code",
   "execution_count": 87,
   "metadata": {},
   "outputs": [
    {
     "name": "stderr",
     "output_type": "stream",
     "text": [
      "train loss: 4.12e-02 | test loss: 8.10e-02 | reg: 3.50e+00 : 100%|██| 50/50 [00:05<00:00,  8.90it/s]\n",
      "train loss: 4.60e-02 | test loss: 9.29e-02 | reg: 3.24e+00 : 100%|██| 50/50 [00:05<00:00,  9.39it/s]\n",
      "train loss: 5.11e-02 | test loss: 1.14e-01 | reg: 3.24e+00 : 100%|██| 50/50 [00:04<00:00, 12.45it/s]\n",
      "train loss: 5.09e-02 | test loss: 1.12e-01 | reg: 3.24e+00 : 100%|██| 50/50 [00:02<00:00, 20.51it/s]\n",
      "train loss: 5.11e-02 | test loss: 1.15e-01 | reg: 3.24e+00 : 100%|██| 50/50 [00:02<00:00, 19.01it/s]\n",
      "train loss: 5.10e-02 | test loss: 1.12e-01 | reg: 3.24e+00 : 100%|██| 50/50 [00:02<00:00, 19.81it/s]\n",
      "train loss: 5.09e-02 | test loss: 1.14e-01 | reg: 3.24e+00 : 100%|██| 50/50 [00:02<00:00, 17.41it/s]\n",
      "train loss: 5.09e-02 | test loss: 1.14e-01 | reg: 3.24e+00 : 100%|██| 50/50 [00:01<00:00, 33.11it/s]\n",
      "train loss: 5.09e-02 | test loss: 1.13e-01 | reg: 3.24e+00 : 100%|██| 50/50 [00:01<00:00, 29.03it/s]\n"
     ]
    }
   ],
   "source": [
    "grids = np.array(list(range(2, 10)))\n",
    "results = []\n",
    "train_losses = []\n",
    "test_losses = []\n",
    "steps = 50\n",
    "k = 3\n",
    "\n",
    "model = KAN(width=[2,1,1], grid=grids[i], k=k, seed=42)\n",
    "model.fit(dataset_3, opt=\"LBFGS\", steps=steps)\n",
    "\n",
    "for i in range(grids.shape[0]):\n",
    "    model.refine(grids[i])\n",
    "    results = model.fit(dataset_3, opt=\"LBFGS\", steps=steps)\n",
    "    train_losses.append(np.mean(results['train_loss']))\n",
    "    test_losses.append(np.mean(results['test_loss']))"
   ]
  },
  {
   "cell_type": "code",
   "execution_count": 89,
   "metadata": {},
   "outputs": [
    {
     "data": {
      "text/plain": [
       "<matplotlib.collections.PathCollection at 0x7f8844165f10>"
      ]
     },
     "execution_count": 89,
     "metadata": {},
     "output_type": "execute_result"
    },
    {
     "data": {
      "image/png": "[encoded data removed]",
      "text/plain": [
       "<Figure size 640x480 with 1 Axes>"
      ]
     },
     "metadata": {},
     "output_type": "display_data"
    }
   ],
   "source": [
    "plt.scatter(list(range(len(test_losses))), test_losses)"
   ]
  },
  {
   "cell_type": "code",
   "execution_count": 90,
   "metadata": {},
   "outputs": [
    {
     "name": "stdout",
     "output_type": "stream",
     "text": [
      "Pareto Frontier: [(2, 0.10804878)]\n",
      "Optimal Point: (2, 0.10804878)\n"
     ]
    }
   ],
   "source": [
    "data = zip(grids, test_losses)\n",
    "# Step 1: Sort the list by the number of parameters\n",
    "sorted_data = sorted(data, key=lambda x: x[0])\n",
    "\n",
    "# Step 2: Identify the Pareto frontier\n",
    "pareto_frontier = []\n",
    "current_best_loss = float('inf')\n",
    "\n",
    "for params, loss in sorted_data:\n",
    "    if loss < current_best_loss:\n",
    "        pareto_frontier.append((params, loss))\n",
    "        current_best_loss = loss\n",
    "\n",
    "# Step 3: Select the optimal point\n",
    "# For this example, we will select the point with the lowest loss\n",
    "optimal_point = min(pareto_frontier, key=lambda x: x[1])\n",
    "\n",
    "# Display the Pareto frontier and the optimal point\n",
    "print(\"Pareto Frontier:\", pareto_frontier)\n",
    "print(\"Optimal Point:\", optimal_point)\n"
   ]
  },
  {
   "cell_type": "code",
   "execution_count": 122,
   "metadata": {},
   "outputs": [
    {
     "name": "stdout",
     "output_type": "stream",
     "text": [
      "Pareto frontier: [(100, 10), (110, 9), (120, 8), (130, 4), (140, 2), (150, 1), (160, 0.99), (170, 0.98), (180, 0.97), (190, 0.96)]\n",
      "Slopes and points: [(0.1, (110, 9)), (0.1, (120, 8)), (0.4, (130, 4)), (0.2, (140, 2)), (0.1, (150, 1)), (0.0010000000000000009, (160, 0.99)), (0.0010000000000000009, (170, 0.98)), (0.0010000000000000009, (180, 0.97)), (0.0010000000000000009, (190, 0.96))]\n",
      "best grid: (190, 0.96)\n"
     ]
    }
   ],
   "source": [
    "## grid auto optimization\n",
    "data = zip(grids, test_losses)\n",
    "data = zip(\n",
    "    list(range(100, 200, 10)),\n",
    "    [10,9,8,4,2,1,0.99,0.98,0.97,0.96]\n",
    "    )\n",
    "# just consider points where the loss decreases\n",
    "pareto_frontier = []\n",
    "current_best_loss = float('inf')\n",
    "for params, loss in data:\n",
    "    if loss < current_best_loss:\n",
    "        pareto_frontier.append((params, loss))\n",
    "        current_best_loss = loss\n",
    "\n",
    "# compute the slope between consecutive points\n",
    "slopes = []\n",
    "for i in range(1, len(pareto_frontier)):\n",
    "    params_diff = pareto_frontier[i][0] - pareto_frontier[i-1][0]\n",
    "    loss_diff = pareto_frontier[i-1][1] - pareto_frontier[i][1]\n",
    "    slope = loss_diff / params_diff if params_diff != 0 else float('inf')\n",
    "    slopes.append((slope, pareto_frontier[i]))\n",
    "\n",
    "# take the point where the slope is higher than a threshold (we already selected \n",
    "# the points that are monotonically decreasing)\n",
    "threshold = 1e-4\n",
    "\n",
    "selected_point = pareto_frontier[0]\n",
    "\n",
    "for slope, point in slopes:\n",
    "    if slope > threshold:\n",
    "        selected_point = point\n",
    "\n",
    "print(\"Pareto frontier:\", pareto_frontier)\n",
    "print(\"Slopes and points:\", slopes)\n",
    "print(\"best grid:\", selected_point)"
   ]
  },
  {
   "cell_type": "code",
   "execution_count": null,
   "metadata": {},
   "outputs": [],
   "source": []
  }
 ],
 "metadata": {
  "kernelspec": {
   "display_name": "kan",
   "language": "python",
   "name": "python3"
  },
  "language_info": {
   "codemirror_mode": {
    "name": "ipython",
    "version": 3
   },
   "file_extension": ".py",
   "mimetype": "text/x-python",
   "name": "python",
   "nbconvert_exporter": "python",
   "pygments_lexer": "ipython3",
   "version": "3.12.3"
  }
 },
 "nbformat": 4,
 "nbformat_minor": 2
}
